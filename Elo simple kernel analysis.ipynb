{
 "cells": [
  {
   "cell_type": "code",
   "execution_count": 10,
   "metadata": {},
   "outputs": [],
   "source": [
    "%matplotlib inline\n",
    "\n",
    "import matplotlib as plt\n",
    "import numpy as np\n",
    "import pandas as pd"
   ]
  },
  {
   "cell_type": "code",
   "execution_count": 3,
   "metadata": {},
   "outputs": [],
   "source": [
    "train_df = pd.read_csv(\"data/train.csv\")\n",
    "transactions_df = pd.read_csv(\"data/historical_transactions.csv\")"
   ]
  },
  {
   "cell_type": "code",
   "execution_count": 4,
   "metadata": {},
   "outputs": [
    {
     "data": {
      "text/html": [
       "<div>\n",
       "<style scoped>\n",
       "    .dataframe tbody tr th:only-of-type {\n",
       "        vertical-align: middle;\n",
       "    }\n",
       "\n",
       "    .dataframe tbody tr th {\n",
       "        vertical-align: top;\n",
       "    }\n",
       "\n",
       "    .dataframe thead th {\n",
       "        text-align: right;\n",
       "    }\n",
       "</style>\n",
       "<table border=\"1\" class=\"dataframe\">\n",
       "  <thead>\n",
       "    <tr style=\"text-align: right;\">\n",
       "      <th></th>\n",
       "      <th>feature_1</th>\n",
       "      <th>feature_2</th>\n",
       "      <th>feature_3</th>\n",
       "      <th>target</th>\n",
       "    </tr>\n",
       "  </thead>\n",
       "  <tbody>\n",
       "    <tr>\n",
       "      <th>count</th>\n",
       "      <td>201917.000000</td>\n",
       "      <td>201917.000000</td>\n",
       "      <td>201917.000000</td>\n",
       "      <td>201917.000000</td>\n",
       "    </tr>\n",
       "    <tr>\n",
       "      <th>mean</th>\n",
       "      <td>3.105311</td>\n",
       "      <td>1.745410</td>\n",
       "      <td>0.565569</td>\n",
       "      <td>-0.393636</td>\n",
       "    </tr>\n",
       "    <tr>\n",
       "      <th>std</th>\n",
       "      <td>1.186160</td>\n",
       "      <td>0.751362</td>\n",
       "      <td>0.495683</td>\n",
       "      <td>3.850500</td>\n",
       "    </tr>\n",
       "    <tr>\n",
       "      <th>min</th>\n",
       "      <td>1.000000</td>\n",
       "      <td>1.000000</td>\n",
       "      <td>0.000000</td>\n",
       "      <td>-33.219281</td>\n",
       "    </tr>\n",
       "    <tr>\n",
       "      <th>25%</th>\n",
       "      <td>2.000000</td>\n",
       "      <td>1.000000</td>\n",
       "      <td>0.000000</td>\n",
       "      <td>-0.883110</td>\n",
       "    </tr>\n",
       "    <tr>\n",
       "      <th>50%</th>\n",
       "      <td>3.000000</td>\n",
       "      <td>2.000000</td>\n",
       "      <td>1.000000</td>\n",
       "      <td>-0.023437</td>\n",
       "    </tr>\n",
       "    <tr>\n",
       "      <th>75%</th>\n",
       "      <td>4.000000</td>\n",
       "      <td>2.000000</td>\n",
       "      <td>1.000000</td>\n",
       "      <td>0.765453</td>\n",
       "    </tr>\n",
       "    <tr>\n",
       "      <th>max</th>\n",
       "      <td>5.000000</td>\n",
       "      <td>3.000000</td>\n",
       "      <td>1.000000</td>\n",
       "      <td>17.965068</td>\n",
       "    </tr>\n",
       "  </tbody>\n",
       "</table>\n",
       "</div>"
      ],
      "text/plain": [
       "           feature_1      feature_2      feature_3         target\n",
       "count  201917.000000  201917.000000  201917.000000  201917.000000\n",
       "mean        3.105311       1.745410       0.565569      -0.393636\n",
       "std         1.186160       0.751362       0.495683       3.850500\n",
       "min         1.000000       1.000000       0.000000     -33.219281\n",
       "25%         2.000000       1.000000       0.000000      -0.883110\n",
       "50%         3.000000       2.000000       1.000000      -0.023437\n",
       "75%         4.000000       2.000000       1.000000       0.765453\n",
       "max         5.000000       3.000000       1.000000      17.965068"
      ]
     },
     "execution_count": 4,
     "metadata": {},
     "output_type": "execute_result"
    }
   ],
   "source": [
    "train_df.describe()"
   ]
  },
  {
   "cell_type": "code",
   "execution_count": 10,
   "metadata": {},
   "outputs": [
    {
     "data": {
      "text/plain": [
       "<matplotlib.axes._subplots.AxesSubplot at 0x11af384e0>"
      ]
     },
     "execution_count": 10,
     "metadata": {},
     "output_type": "execute_result"
    },
    {
     "data": {
      "image/png": "[encoded data removed]",
      "text/plain": [
       "<Figure size 432x288 with 1 Axes>"
      ]
     },
     "metadata": {},
     "output_type": "display_data"
    }
   ],
   "source": [
    "train_df[\"target\"].plot.hist(bins=200)"
   ]
  },
  {
   "cell_type": "code",
   "execution_count": 7,
   "metadata": {},
   "outputs": [
    {
     "data": {
      "text/html": [
       "<div>\n",
       "<style scoped>\n",
       "    .dataframe tbody tr th:only-of-type {\n",
       "        vertical-align: middle;\n",
       "    }\n",
       "\n",
       "    .dataframe tbody tr th {\n",
       "        vertical-align: top;\n",
       "    }\n",
       "\n",
       "    .dataframe thead th {\n",
       "        text-align: right;\n",
       "    }\n",
       "</style>\n",
       "<table border=\"1\" class=\"dataframe\">\n",
       "  <thead>\n",
       "    <tr style=\"text-align: right;\">\n",
       "      <th></th>\n",
       "      <th>city_id</th>\n",
       "      <th>installments</th>\n",
       "      <th>merchant_category_id</th>\n",
       "      <th>month_lag</th>\n",
       "      <th>purchase_amount</th>\n",
       "      <th>category_2</th>\n",
       "      <th>state_id</th>\n",
       "      <th>subsector_id</th>\n",
       "    </tr>\n",
       "  </thead>\n",
       "  <tbody>\n",
       "    <tr>\n",
       "      <th>count</th>\n",
       "      <td>2.911236e+07</td>\n",
       "      <td>2.911236e+07</td>\n",
       "      <td>2.911236e+07</td>\n",
       "      <td>2.911236e+07</td>\n",
       "      <td>2.911236e+07</td>\n",
       "      <td>2.645950e+07</td>\n",
       "      <td>2.911236e+07</td>\n",
       "      <td>2.911236e+07</td>\n",
       "    </tr>\n",
       "    <tr>\n",
       "      <th>mean</th>\n",
       "      <td>1.293256e+02</td>\n",
       "      <td>6.484954e-01</td>\n",
       "      <td>4.810130e+02</td>\n",
       "      <td>-4.487294e+00</td>\n",
       "      <td>3.640090e-02</td>\n",
       "      <td>2.194578e+00</td>\n",
       "      <td>1.056679e+01</td>\n",
       "      <td>2.684839e+01</td>\n",
       "    </tr>\n",
       "    <tr>\n",
       "      <th>std</th>\n",
       "      <td>1.042563e+02</td>\n",
       "      <td>2.795577e+00</td>\n",
       "      <td>2.493757e+02</td>\n",
       "      <td>3.588800e+00</td>\n",
       "      <td>1.123522e+03</td>\n",
       "      <td>1.531896e+00</td>\n",
       "      <td>6.366927e+00</td>\n",
       "      <td>9.692793e+00</td>\n",
       "    </tr>\n",
       "    <tr>\n",
       "      <th>min</th>\n",
       "      <td>-1.000000e+00</td>\n",
       "      <td>-1.000000e+00</td>\n",
       "      <td>-1.000000e+00</td>\n",
       "      <td>-1.300000e+01</td>\n",
       "      <td>-7.469078e-01</td>\n",
       "      <td>1.000000e+00</td>\n",
       "      <td>-1.000000e+00</td>\n",
       "      <td>-1.000000e+00</td>\n",
       "    </tr>\n",
       "    <tr>\n",
       "      <th>25%</th>\n",
       "      <td>5.300000e+01</td>\n",
       "      <td>0.000000e+00</td>\n",
       "      <td>3.070000e+02</td>\n",
       "      <td>-7.000000e+00</td>\n",
       "      <td>-7.203559e-01</td>\n",
       "      <td>1.000000e+00</td>\n",
       "      <td>9.000000e+00</td>\n",
       "      <td>1.900000e+01</td>\n",
       "    </tr>\n",
       "    <tr>\n",
       "      <th>50%</th>\n",
       "      <td>9.000000e+01</td>\n",
       "      <td>0.000000e+00</td>\n",
       "      <td>4.540000e+02</td>\n",
       "      <td>-4.000000e+00</td>\n",
       "      <td>-6.883495e-01</td>\n",
       "      <td>1.000000e+00</td>\n",
       "      <td>9.000000e+00</td>\n",
       "      <td>2.900000e+01</td>\n",
       "    </tr>\n",
       "    <tr>\n",
       "      <th>75%</th>\n",
       "      <td>2.120000e+02</td>\n",
       "      <td>1.000000e+00</td>\n",
       "      <td>7.050000e+02</td>\n",
       "      <td>-2.000000e+00</td>\n",
       "      <td>-6.032543e-01</td>\n",
       "      <td>3.000000e+00</td>\n",
       "      <td>1.600000e+01</td>\n",
       "      <td>3.400000e+01</td>\n",
       "    </tr>\n",
       "    <tr>\n",
       "      <th>max</th>\n",
       "      <td>3.470000e+02</td>\n",
       "      <td>9.990000e+02</td>\n",
       "      <td>8.910000e+02</td>\n",
       "      <td>0.000000e+00</td>\n",
       "      <td>6.010604e+06</td>\n",
       "      <td>5.000000e+00</td>\n",
       "      <td>2.400000e+01</td>\n",
       "      <td>4.100000e+01</td>\n",
       "    </tr>\n",
       "  </tbody>\n",
       "</table>\n",
       "</div>"
      ],
      "text/plain": [
       "            city_id  installments  merchant_category_id     month_lag  \\\n",
       "count  2.911236e+07  2.911236e+07          2.911236e+07  2.911236e+07   \n",
       "mean   1.293256e+02  6.484954e-01          4.810130e+02 -4.487294e+00   \n",
       "std    1.042563e+02  2.795577e+00          2.493757e+02  3.588800e+00   \n",
       "min   -1.000000e+00 -1.000000e+00         -1.000000e+00 -1.300000e+01   \n",
       "25%    5.300000e+01  0.000000e+00          3.070000e+02 -7.000000e+00   \n",
       "50%    9.000000e+01  0.000000e+00          4.540000e+02 -4.000000e+00   \n",
       "75%    2.120000e+02  1.000000e+00          7.050000e+02 -2.000000e+00   \n",
       "max    3.470000e+02  9.990000e+02          8.910000e+02  0.000000e+00   \n",
       "\n",
       "       purchase_amount    category_2      state_id  subsector_id  \n",
       "count     2.911236e+07  2.645950e+07  2.911236e+07  2.911236e+07  \n",
       "mean      3.640090e-02  2.194578e+00  1.056679e+01  2.684839e+01  \n",
       "std       1.123522e+03  1.531896e+00  6.366927e+00  9.692793e+00  \n",
       "min      -7.469078e-01  1.000000e+00 -1.000000e+00 -1.000000e+00  \n",
       "25%      -7.203559e-01  1.000000e+00  9.000000e+00  1.900000e+01  \n",
       "50%      -6.883495e-01  1.000000e+00  9.000000e+00  2.900000e+01  \n",
       "75%      -6.032543e-01  3.000000e+00  1.600000e+01  3.400000e+01  \n",
       "max       6.010604e+06  5.000000e+00  2.400000e+01  4.100000e+01  "
      ]
     },
     "execution_count": 7,
     "metadata": {},
     "output_type": "execute_result"
    }
   ],
   "source": [
    "transactions_df.describe()"
   ]
  },
  {
   "cell_type": "code",
   "execution_count": 9,
   "metadata": {},
   "outputs": [
    {
     "data": {
      "text/plain": [
       "<matplotlib.axes._subplots.AxesSubplot at 0x11a199710>"
      ]
     },
     "execution_count": 9,
     "metadata": {},
     "output_type": "execute_result"
    },
    {
     "data": {
      "image/png": "[encoded data removed]",
      "text/plain": [
       "<Figure size 432x288 with 1 Axes>"
      ]
     },
     "metadata": {},
     "output_type": "display_data"
    }
   ],
   "source": [
    "transactions_df[\"purchase_amount\"].plot.hist(bins=200)"
   ]
  },
  {
   "cell_type": "markdown",
   "metadata": {},
   "source": [
    "Para fazer a análise desses dados com os outliers do target vamos fazer uma remoção deles colocando eles em uma blacklist"
   ]
  },
  {
   "cell_type": "code",
   "execution_count": 4,
   "metadata": {},
   "outputs": [
    {
     "data": {
      "text/plain": [
       "<matplotlib.axes._subplots.AxesSubplot at 0x12535dbe0>"
      ]
     },
     "execution_count": 4,
     "metadata": {},
     "output_type": "execute_result"
    },
    {
     "data": {
      "image/png": "[encoded data removed]",
      "text/plain": [
       "<Figure size 432x288 with 1 Axes>"
      ]
     },
     "metadata": {},
     "output_type": "display_data"
    }
   ],
   "source": [
    "pure_train = train_df[train_df[\"target\"] > -30]\n",
    "pure_train[\"target\"].plot.hist(bins=200)"
   ]
  },
  {
   "cell_type": "markdown",
   "metadata": {},
   "source": [
    "Agora vamos utilizar o modelo dos outliers"
   ]
  },
  {
   "cell_type": "code",
   "execution_count": 17,
   "metadata": {},
   "outputs": [
    {
     "data": {
      "text/plain": [
       "<matplotlib.axes._subplots.AxesSubplot at 0x121682828>"
      ]
     },
     "execution_count": 17,
     "metadata": {},
     "output_type": "execute_result"
    },
    {
     "data": {
      "image/png": "[encoded data removed]",
      "text/plain": [
       "<Figure size 432x288 with 1 Axes>"
      ]
     },
     "metadata": {},
     "output_type": "display_data"
    }
   ],
   "source": [
    "outliers_train = train_df[train_df[\"target\"] <= -30]\n",
    "outliers_train[\"target\"].plot.hist(bins=200)"
   ]
  },
  {
   "cell_type": "code",
   "execution_count": 18,
   "metadata": {},
   "outputs": [
    {
     "data": {
      "text/html": [
       "<div>\n",
       "<style scoped>\n",
       "    .dataframe tbody tr th:only-of-type {\n",
       "        vertical-align: middle;\n",
       "    }\n",
       "\n",
       "    .dataframe tbody tr th {\n",
       "        vertical-align: top;\n",
       "    }\n",
       "\n",
       "    .dataframe thead th {\n",
       "        text-align: right;\n",
       "    }\n",
       "</style>\n",
       "<table border=\"1\" class=\"dataframe\">\n",
       "  <thead>\n",
       "    <tr style=\"text-align: right;\">\n",
       "      <th></th>\n",
       "      <th>feature_1</th>\n",
       "      <th>feature_2</th>\n",
       "      <th>feature_3</th>\n",
       "      <th>target</th>\n",
       "    </tr>\n",
       "  </thead>\n",
       "  <tbody>\n",
       "    <tr>\n",
       "      <th>count</th>\n",
       "      <td>2207.000000</td>\n",
       "      <td>2207.000000</td>\n",
       "      <td>2207.000000</td>\n",
       "      <td>2.207000e+03</td>\n",
       "    </tr>\n",
       "    <tr>\n",
       "      <th>mean</th>\n",
       "      <td>3.224286</td>\n",
       "      <td>1.782510</td>\n",
       "      <td>0.591300</td>\n",
       "      <td>-3.321928e+01</td>\n",
       "    </tr>\n",
       "    <tr>\n",
       "      <th>std</th>\n",
       "      <td>1.207783</td>\n",
       "      <td>0.810069</td>\n",
       "      <td>0.491705</td>\n",
       "      <td>7.107038e-15</td>\n",
       "    </tr>\n",
       "    <tr>\n",
       "      <th>min</th>\n",
       "      <td>1.000000</td>\n",
       "      <td>1.000000</td>\n",
       "      <td>0.000000</td>\n",
       "      <td>-3.321928e+01</td>\n",
       "    </tr>\n",
       "    <tr>\n",
       "      <th>25%</th>\n",
       "      <td>2.000000</td>\n",
       "      <td>1.000000</td>\n",
       "      <td>0.000000</td>\n",
       "      <td>-3.321928e+01</td>\n",
       "    </tr>\n",
       "    <tr>\n",
       "      <th>50%</th>\n",
       "      <td>3.000000</td>\n",
       "      <td>2.000000</td>\n",
       "      <td>1.000000</td>\n",
       "      <td>-3.321928e+01</td>\n",
       "    </tr>\n",
       "    <tr>\n",
       "      <th>75%</th>\n",
       "      <td>4.000000</td>\n",
       "      <td>2.000000</td>\n",
       "      <td>1.000000</td>\n",
       "      <td>-3.321928e+01</td>\n",
       "    </tr>\n",
       "    <tr>\n",
       "      <th>max</th>\n",
       "      <td>5.000000</td>\n",
       "      <td>3.000000</td>\n",
       "      <td>1.000000</td>\n",
       "      <td>-3.321928e+01</td>\n",
       "    </tr>\n",
       "  </tbody>\n",
       "</table>\n",
       "</div>"
      ],
      "text/plain": [
       "         feature_1    feature_2    feature_3        target\n",
       "count  2207.000000  2207.000000  2207.000000  2.207000e+03\n",
       "mean      3.224286     1.782510     0.591300 -3.321928e+01\n",
       "std       1.207783     0.810069     0.491705  7.107038e-15\n",
       "min       1.000000     1.000000     0.000000 -3.321928e+01\n",
       "25%       2.000000     1.000000     0.000000 -3.321928e+01\n",
       "50%       3.000000     2.000000     1.000000 -3.321928e+01\n",
       "75%       4.000000     2.000000     1.000000 -3.321928e+01\n",
       "max       5.000000     3.000000     1.000000 -3.321928e+01"
      ]
     },
     "execution_count": 18,
     "metadata": {},
     "output_type": "execute_result"
    }
   ],
   "source": [
    "outliers_train.describe()"
   ]
  },
  {
   "cell_type": "code",
   "execution_count": 21,
   "metadata": {},
   "outputs": [
    {
     "data": {
      "text/plain": [
       "first_active_month    1.093023\n",
       "card_id               1.093023\n",
       "feature_1             1.093023\n",
       "feature_2             1.093023\n",
       "feature_3             1.093023\n",
       "target                1.093023\n",
       "dtype: float64"
      ]
     },
     "execution_count": 21,
     "metadata": {},
     "output_type": "execute_result"
    }
   ],
   "source": [
    "percentage = outliers_train.count()/train_df.count()\n",
    "percentage*100"
   ]
  },
  {
   "cell_type": "markdown",
   "metadata": {},
   "source": [
    "Para fazer as predições o ideal é criar dois modelos, um para prever se o card_id é um outlier ou não. Para isso podemos tentar fazer uso de um modelo simples de regressão logística. Porém, para realizar essas atividades seria um esforço grande para um pequeno resultado, uma vez que o outliers são estritamente 1.1% dos dados do dataset"
   ]
  },
  {
   "cell_type": "code",
   "execution_count": 45,
   "metadata": {},
   "outputs": [
    {
     "name": "stderr",
     "output_type": "stream",
     "text": [
      "/Users/caiogomes/miniconda3/lib/python3.6/site-packages/ipykernel_launcher.py:6: SettingWithCopyWarning: \n",
      "A value is trying to be set on a copy of a slice from a DataFrame.\n",
      "Try using .loc[row_indexer,col_indexer] = value instead\n",
      "\n",
      "See the caveats in the documentation: http://pandas.pydata.org/pandas-docs/stable/indexing.html#indexing-view-versus-copy\n",
      "  \n"
     ]
    },
    {
     "data": {
      "text/html": [
       "<div>\n",
       "<style scoped>\n",
       "    .dataframe tbody tr th:only-of-type {\n",
       "        vertical-align: middle;\n",
       "    }\n",
       "\n",
       "    .dataframe tbody tr th {\n",
       "        vertical-align: top;\n",
       "    }\n",
       "\n",
       "    .dataframe thead th {\n",
       "        text-align: right;\n",
       "    }\n",
       "</style>\n",
       "<table border=\"1\" class=\"dataframe\">\n",
       "  <thead>\n",
       "    <tr style=\"text-align: right;\">\n",
       "      <th></th>\n",
       "      <th>first_active_month</th>\n",
       "      <th>card_id</th>\n",
       "      <th>feature_1</th>\n",
       "      <th>feature_2</th>\n",
       "      <th>feature_3</th>\n",
       "      <th>target</th>\n",
       "      <th>class</th>\n",
       "    </tr>\n",
       "  </thead>\n",
       "  <tbody>\n",
       "    <tr>\n",
       "      <th>64</th>\n",
       "      <td>2017-09</td>\n",
       "      <td>C_ID_8186f3fcc1</td>\n",
       "      <td>3.0</td>\n",
       "      <td>1.0</td>\n",
       "      <td>1.0</td>\n",
       "      <td>-33.219281</td>\n",
       "      <td>6</td>\n",
       "    </tr>\n",
       "    <tr>\n",
       "      <th>92</th>\n",
       "      <td>2015-05</td>\n",
       "      <td>C_ID_b9379a30ea</td>\n",
       "      <td>3.0</td>\n",
       "      <td>3.0</td>\n",
       "      <td>1.0</td>\n",
       "      <td>-33.219281</td>\n",
       "      <td>8</td>\n",
       "    </tr>\n",
       "    <tr>\n",
       "      <th>125</th>\n",
       "      <td>2015-10</td>\n",
       "      <td>C_ID_e9120f535c</td>\n",
       "      <td>3.0</td>\n",
       "      <td>3.0</td>\n",
       "      <td>1.0</td>\n",
       "      <td>-33.219281</td>\n",
       "      <td>8</td>\n",
       "    </tr>\n",
       "    <tr>\n",
       "      <th>151</th>\n",
       "      <td>2017-03</td>\n",
       "      <td>C_ID_65715cb80d</td>\n",
       "      <td>4.0</td>\n",
       "      <td>2.0</td>\n",
       "      <td>0.0</td>\n",
       "      <td>-33.219281</td>\n",
       "      <td>10</td>\n",
       "    </tr>\n",
       "    <tr>\n",
       "      <th>225</th>\n",
       "      <td>2017-01</td>\n",
       "      <td>C_ID_ae77d244b6</td>\n",
       "      <td>2.0</td>\n",
       "      <td>1.0</td>\n",
       "      <td>0.0</td>\n",
       "      <td>-33.219281</td>\n",
       "      <td>3</td>\n",
       "    </tr>\n",
       "  </tbody>\n",
       "</table>\n",
       "</div>"
      ],
      "text/plain": [
       "    first_active_month          card_id  feature_1  feature_2  feature_3  \\\n",
       "64             2017-09  C_ID_8186f3fcc1        3.0        1.0        1.0   \n",
       "92             2015-05  C_ID_b9379a30ea        3.0        3.0        1.0   \n",
       "125            2015-10  C_ID_e9120f535c        3.0        3.0        1.0   \n",
       "151            2017-03  C_ID_65715cb80d        4.0        2.0        0.0   \n",
       "225            2017-01  C_ID_ae77d244b6        2.0        1.0        0.0   \n",
       "\n",
       "        target  class  \n",
       "64  -33.219281      6  \n",
       "92  -33.219281      8  \n",
       "125 -33.219281      8  \n",
       "151 -33.219281     10  \n",
       "225 -33.219281      3  "
      ]
     },
     "execution_count": 45,
     "metadata": {},
     "output_type": "execute_result"
    }
   ],
   "source": [
    "df_tuples = outliers_train[[\"feature_1\", \"feature_2\", \"feature_3\"]].apply(tuple, axis=1)\n",
    "df_dummies = pd.get_dummies(df_tuples)\n",
    "df_dummies.columns = list(range(len(df_dummies.columns)))\n",
    "s = pd.Series(df_dummies.columns[np.where(df_dummies != 0)[1]])\n",
    "s.index = df_tuples.index\n",
    "outliers_train[\"class\"] = s\n",
    "outliers_train.head()"
   ]
  },
  {
   "cell_type": "code",
   "execution_count": 48,
   "metadata": {},
   "outputs": [
    {
     "data": {
      "text/plain": [
       "<matplotlib.axes._subplots.AxesSubplot at 0x122a2af28>"
      ]
     },
     "execution_count": 48,
     "metadata": {},
     "output_type": "execute_result"
    },
    {
     "data": {
      "image/png": "[encoded data removed]",
      "text/plain": [
       "<Figure size 432x288 with 1 Axes>"
      ]
     },
     "metadata": {},
     "output_type": "display_data"
    }
   ],
   "source": [
    "outliers_train.plot(x=\"class\", y=\"target\")"
   ]
  },
  {
   "cell_type": "markdown",
   "metadata": {},
   "source": [
    "Como nenhum resultado foi conclusivo, vamos ignorar momentaneamente essas análises e seguir em frente para realizar a predição dos tipos de dados presentes no dataset de treinamento. Porém, podemos utilizar a técnica que aprendemos dessa análise momentanea do conjunto de dados de outliers para que possamos fazer uso dessas técnicas em relação a fazer o 1 hot encoding para cada tupla de features e assim podemos fazer um plot do estudo estatístico para cada uma dessas categorias de features e utilizar elas como base para realizar as nossas predições e posteriormente juntar com os dados de transações."
   ]
  },
  {
   "cell_type": "code",
   "execution_count": 59,
   "metadata": {},
   "outputs": [
    {
     "name": "stderr",
     "output_type": "stream",
     "text": [
      "/Users/caiogomes/miniconda3/lib/python3.6/site-packages/pandas/core/indexing.py:543: SettingWithCopyWarning: \n",
      "A value is trying to be set on a copy of a slice from a DataFrame.\n",
      "Try using .loc[row_indexer,col_indexer] = value instead\n",
      "\n",
      "See the caveats in the documentation: http://pandas.pydata.org/pandas-docs/stable/indexing.html#indexing-view-versus-copy\n",
      "  self.obj[item] = s\n"
     ]
    },
    {
     "data": {
      "text/html": [
       "<div>\n",
       "<style scoped>\n",
       "    .dataframe tbody tr th:only-of-type {\n",
       "        vertical-align: middle;\n",
       "    }\n",
       "\n",
       "    .dataframe tbody tr th {\n",
       "        vertical-align: top;\n",
       "    }\n",
       "\n",
       "    .dataframe thead th {\n",
       "        text-align: right;\n",
       "    }\n",
       "</style>\n",
       "<table border=\"1\" class=\"dataframe\">\n",
       "  <thead>\n",
       "    <tr style=\"text-align: right;\">\n",
       "      <th></th>\n",
       "      <th>count</th>\n",
       "      <th>mean</th>\n",
       "      <th>std</th>\n",
       "      <th>min</th>\n",
       "      <th>25%</th>\n",
       "      <th>50%</th>\n",
       "      <th>75%</th>\n",
       "      <th>max</th>\n",
       "    </tr>\n",
       "    <tr>\n",
       "      <th>class</th>\n",
       "      <th></th>\n",
       "      <th></th>\n",
       "      <th></th>\n",
       "      <th></th>\n",
       "      <th></th>\n",
       "      <th></th>\n",
       "      <th></th>\n",
       "      <th></th>\n",
       "    </tr>\n",
       "  </thead>\n",
       "  <tbody>\n",
       "    <tr>\n",
       "      <th>0.0</th>\n",
       "      <td>6473.0</td>\n",
       "      <td>-0.047427</td>\n",
       "      <td>1.695106</td>\n",
       "      <td>-17.492640</td>\n",
       "      <td>-0.750166</td>\n",
       "      <td>-0.009055</td>\n",
       "      <td>0.674554</td>\n",
       "      <td>15.011358</td>\n",
       "    </tr>\n",
       "    <tr>\n",
       "      <th>1.0</th>\n",
       "      <td>2801.0</td>\n",
       "      <td>0.072014</td>\n",
       "      <td>1.798173</td>\n",
       "      <td>-9.577282</td>\n",
       "      <td>-0.713134</td>\n",
       "      <td>0.000000</td>\n",
       "      <td>0.764481</td>\n",
       "      <td>11.553597</td>\n",
       "    </tr>\n",
       "    <tr>\n",
       "      <th>2.0</th>\n",
       "      <td>2666.0</td>\n",
       "      <td>-0.176228</td>\n",
       "      <td>1.514510</td>\n",
       "      <td>-7.737818</td>\n",
       "      <td>-0.913521</td>\n",
       "      <td>-0.144806</td>\n",
       "      <td>0.581198</td>\n",
       "      <td>10.139105</td>\n",
       "    </tr>\n",
       "    <tr>\n",
       "      <th>3.0</th>\n",
       "      <td>24174.0</td>\n",
       "      <td>0.035844</td>\n",
       "      <td>1.509869</td>\n",
       "      <td>-15.835656</td>\n",
       "      <td>-0.674639</td>\n",
       "      <td>0.062362</td>\n",
       "      <td>0.772621</td>\n",
       "      <td>13.592223</td>\n",
       "    </tr>\n",
       "    <tr>\n",
       "      <th>4.0</th>\n",
       "      <td>24270.0</td>\n",
       "      <td>-0.032791</td>\n",
       "      <td>1.697330</td>\n",
       "      <td>-12.304637</td>\n",
       "      <td>-0.868711</td>\n",
       "      <td>-0.036210</td>\n",
       "      <td>0.791799</td>\n",
       "      <td>10.474853</td>\n",
       "    </tr>\n",
       "    <tr>\n",
       "      <th>5.0</th>\n",
       "      <td>6761.0</td>\n",
       "      <td>0.006067</td>\n",
       "      <td>1.521257</td>\n",
       "      <td>-10.156083</td>\n",
       "      <td>-0.745751</td>\n",
       "      <td>-0.006531</td>\n",
       "      <td>0.757648</td>\n",
       "      <td>13.350895</td>\n",
       "    </tr>\n",
       "    <tr>\n",
       "      <th>6.0</th>\n",
       "      <td>24436.0</td>\n",
       "      <td>-0.032338</td>\n",
       "      <td>1.804713</td>\n",
       "      <td>-15.553269</td>\n",
       "      <td>-0.907759</td>\n",
       "      <td>-0.036243</td>\n",
       "      <td>0.840913</td>\n",
       "      <td>12.446308</td>\n",
       "    </tr>\n",
       "    <tr>\n",
       "      <th>7.0</th>\n",
       "      <td>24224.0</td>\n",
       "      <td>-0.034170</td>\n",
       "      <td>1.891880</td>\n",
       "      <td>-17.608147</td>\n",
       "      <td>-0.964037</td>\n",
       "      <td>-0.032211</td>\n",
       "      <td>0.891464</td>\n",
       "      <td>15.606405</td>\n",
       "    </tr>\n",
       "    <tr>\n",
       "      <th>8.0</th>\n",
       "      <td>24142.0</td>\n",
       "      <td>-0.022626</td>\n",
       "      <td>1.763529</td>\n",
       "      <td>-11.359914</td>\n",
       "      <td>-0.880842</td>\n",
       "      <td>-0.000474</td>\n",
       "      <td>0.827387</td>\n",
       "      <td>11.291580</td>\n",
       "    </tr>\n",
       "    <tr>\n",
       "      <th>9.0</th>\n",
       "      <td>9103.0</td>\n",
       "      <td>-0.085844</td>\n",
       "      <td>1.684373</td>\n",
       "      <td>-10.267225</td>\n",
       "      <td>-0.828445</td>\n",
       "      <td>-0.013200</td>\n",
       "      <td>0.694964</td>\n",
       "      <td>9.665204</td>\n",
       "    </tr>\n",
       "    <tr>\n",
       "      <th>10.0</th>\n",
       "      <td>6838.0</td>\n",
       "      <td>0.002861</td>\n",
       "      <td>1.770941</td>\n",
       "      <td>-10.833823</td>\n",
       "      <td>-0.802108</td>\n",
       "      <td>0.000000</td>\n",
       "      <td>0.812701</td>\n",
       "      <td>9.365076</td>\n",
       "    </tr>\n",
       "    <tr>\n",
       "      <th>11.0</th>\n",
       "      <td>3731.0</td>\n",
       "      <td>-0.055996</td>\n",
       "      <td>1.694183</td>\n",
       "      <td>-13.599111</td>\n",
       "      <td>-0.817836</td>\n",
       "      <td>-0.046030</td>\n",
       "      <td>0.723905</td>\n",
       "      <td>8.867564</td>\n",
       "    </tr>\n",
       "    <tr>\n",
       "      <th>12.0</th>\n",
       "      <td>24040.0</td>\n",
       "      <td>-0.033926</td>\n",
       "      <td>1.638207</td>\n",
       "      <td>-14.631001</td>\n",
       "      <td>-0.758531</td>\n",
       "      <td>0.000000</td>\n",
       "      <td>0.688864</td>\n",
       "      <td>17.965068</td>\n",
       "    </tr>\n",
       "    <tr>\n",
       "      <th>13.0</th>\n",
       "      <td>16051.0</td>\n",
       "      <td>-0.109210</td>\n",
       "      <td>1.776978</td>\n",
       "      <td>-13.872483</td>\n",
       "      <td>-0.973479</td>\n",
       "      <td>-0.116095</td>\n",
       "      <td>0.733936</td>\n",
       "      <td>15.294621</td>\n",
       "    </tr>\n",
       "    <tr>\n",
       "      <th>14.0</th>\n",
       "      <td>0.0</td>\n",
       "      <td>NaN</td>\n",
       "      <td>NaN</td>\n",
       "      <td>NaN</td>\n",
       "      <td>NaN</td>\n",
       "      <td>NaN</td>\n",
       "      <td>NaN</td>\n",
       "      <td>NaN</td>\n",
       "    </tr>\n",
       "  </tbody>\n",
       "</table>\n",
       "</div>"
      ],
      "text/plain": [
       "         count      mean       std        min       25%       50%       75%  \\\n",
       "class                                                                         \n",
       "0.0     6473.0 -0.047427  1.695106 -17.492640 -0.750166 -0.009055  0.674554   \n",
       "1.0     2801.0  0.072014  1.798173  -9.577282 -0.713134  0.000000  0.764481   \n",
       "2.0     2666.0 -0.176228  1.514510  -7.737818 -0.913521 -0.144806  0.581198   \n",
       "3.0    24174.0  0.035844  1.509869 -15.835656 -0.674639  0.062362  0.772621   \n",
       "4.0    24270.0 -0.032791  1.697330 -12.304637 -0.868711 -0.036210  0.791799   \n",
       "5.0     6761.0  0.006067  1.521257 -10.156083 -0.745751 -0.006531  0.757648   \n",
       "6.0    24436.0 -0.032338  1.804713 -15.553269 -0.907759 -0.036243  0.840913   \n",
       "7.0    24224.0 -0.034170  1.891880 -17.608147 -0.964037 -0.032211  0.891464   \n",
       "8.0    24142.0 -0.022626  1.763529 -11.359914 -0.880842 -0.000474  0.827387   \n",
       "9.0     9103.0 -0.085844  1.684373 -10.267225 -0.828445 -0.013200  0.694964   \n",
       "10.0    6838.0  0.002861  1.770941 -10.833823 -0.802108  0.000000  0.812701   \n",
       "11.0    3731.0 -0.055996  1.694183 -13.599111 -0.817836 -0.046030  0.723905   \n",
       "12.0   24040.0 -0.033926  1.638207 -14.631001 -0.758531  0.000000  0.688864   \n",
       "13.0   16051.0 -0.109210  1.776978 -13.872483 -0.973479 -0.116095  0.733936   \n",
       "14.0       0.0       NaN       NaN        NaN       NaN       NaN       NaN   \n",
       "\n",
       "             max  \n",
       "class             \n",
       "0.0    15.011358  \n",
       "1.0    11.553597  \n",
       "2.0    10.139105  \n",
       "3.0    13.592223  \n",
       "4.0    10.474853  \n",
       "5.0    13.350895  \n",
       "6.0    12.446308  \n",
       "7.0    15.606405  \n",
       "8.0    11.291580  \n",
       "9.0     9.665204  \n",
       "10.0    9.365076  \n",
       "11.0    8.867564  \n",
       "12.0   17.965068  \n",
       "13.0   15.294621  \n",
       "14.0         NaN  "
      ]
     },
     "execution_count": 59,
     "metadata": {},
     "output_type": "execute_result"
    }
   ],
   "source": [
    "def mixClasses(dataframe, column_names):\n",
    "    #Obs: This method won't find out the dict properly\n",
    "    tuples = dataframe[column_names].apply(tuple, axis=1)\n",
    "    dummies = pd.get_dummies(tuples)\n",
    "    dummies.columns = list(range(len(dummies.columns))) # convert the dummies to numbers\n",
    "    s = pd.Series(dummies.columns[np.where(dummies != 0)[1]])\n",
    "    s.index = tuples.index\n",
    "    return s\n",
    "\n",
    "s = mixClasses(pure_train, [\"feature_1\", \"feature_2\", \"feature_3\"])\n",
    "pure_train.loc[\"class\"] = s\n",
    "groups = pure_train.groupby(by=\"class\")\n",
    "groups[\"target\"].describe()"
   ]
  },
  {
   "cell_type": "markdown",
   "metadata": {},
   "source": [
    "## Count"
   ]
  },
  {
   "cell_type": "code",
   "execution_count": 78,
   "metadata": {},
   "outputs": [
    {
     "data": {
      "text/plain": [
       "<BarContainer object of 15 artists>"
      ]
     },
     "execution_count": 78,
     "metadata": {},
     "output_type": "execute_result"
    },
    {
     "data": {
      "image/png": "[encoded data removed]",
      "text/plain": [
       "<Figure size 432x288 with 1 Axes>"
      ]
     },
     "metadata": {},
     "output_type": "display_data"
    }
   ],
   "source": [
    "idx = groups.count().index\n",
    "counts = groups.count()[\"target\"]\n",
    "x = list(idx.values)\n",
    "y = list(counts.values)\n",
    "plt.pyplot.bar(x, y)"
   ]
  },
  {
   "cell_type": "markdown",
   "metadata": {},
   "source": [
    "## Standard Deviation"
   ]
  },
  {
   "cell_type": "code",
   "execution_count": 79,
   "metadata": {},
   "outputs": [
    {
     "data": {
      "text/plain": [
       "<BarContainer object of 15 artists>"
      ]
     },
     "execution_count": 79,
     "metadata": {},
     "output_type": "execute_result"
    },
    {
     "data": {
      "image/png": "[encoded data removed]",
      "text/plain": [
       "<Figure size 432x288 with 1 Axes>"
      ]
     },
     "metadata": {},
     "output_type": "display_data"
    }
   ],
   "source": [
    "idx = groups.std().index\n",
    "counts = groups.std()[\"target\"]\n",
    "x = list(idx.values)\n",
    "y = list(counts.values)\n",
    "plt.pyplot.bar(x, y)"
   ]
  },
  {
   "cell_type": "markdown",
   "metadata": {},
   "source": [
    "## Min Max"
   ]
  },
  {
   "cell_type": "code",
   "execution_count": 9,
   "metadata": {
    "scrolled": true
   },
   "outputs": [
    {
     "ename": "NameError",
     "evalue": "name 'groups' is not defined",
     "output_type": "error",
     "traceback": [
      "\u001b[0;31m---------------------------------------------------------------------------\u001b[0m",
      "\u001b[0;31mNameError\u001b[0m                                 Traceback (most recent call last)",
      "\u001b[0;32m<ipython-input-9-13dc9a49611a>\u001b[0m in \u001b[0;36m<module>\u001b[0;34m()\u001b[0m\n\u001b[1;32m      1\u001b[0m \u001b[0;31m# @hidden_cell\u001b[0m\u001b[0;34m\u001b[0m\u001b[0;34m\u001b[0m\u001b[0m\n\u001b[1;32m      2\u001b[0m \u001b[0;31m#min\u001b[0m\u001b[0;34m\u001b[0m\u001b[0;34m\u001b[0m\u001b[0m\n\u001b[0;32m----> 3\u001b[0;31m \u001b[0midx\u001b[0m \u001b[0;34m=\u001b[0m \u001b[0mgroups\u001b[0m\u001b[0;34m.\u001b[0m\u001b[0mmax\u001b[0m\u001b[0;34m(\u001b[0m\u001b[0;34m)\u001b[0m\u001b[0;34m.\u001b[0m\u001b[0mindex\u001b[0m\u001b[0;34m\u001b[0m\u001b[0m\n\u001b[0m\u001b[1;32m      4\u001b[0m \u001b[0mcounts\u001b[0m \u001b[0;34m=\u001b[0m \u001b[0mgroups\u001b[0m\u001b[0;34m.\u001b[0m\u001b[0mmax\u001b[0m\u001b[0;34m(\u001b[0m\u001b[0;34m)\u001b[0m\u001b[0;34m[\u001b[0m\u001b[0;34m\"target\"\u001b[0m\u001b[0;34m]\u001b[0m\u001b[0;34m\u001b[0m\u001b[0m\n\u001b[1;32m      5\u001b[0m \u001b[0mx\u001b[0m \u001b[0;34m=\u001b[0m \u001b[0mlist\u001b[0m\u001b[0;34m(\u001b[0m\u001b[0midx\u001b[0m\u001b[0;34m.\u001b[0m\u001b[0mvalues\u001b[0m\u001b[0;34m)\u001b[0m\u001b[0;34m\u001b[0m\u001b[0m\n",
      "\u001b[0;31mNameError\u001b[0m: name 'groups' is not defined"
     ]
    }
   ],
   "source": [
    "# @hidden_cell\n",
    "#min\n",
    "idx = groups.max().index\n",
    "counts = groups.max()[\"target\"]\n",
    "x = list(idx.values)\n",
    "y = list(counts.values)\n",
    "plt.pyplot.bar(x, y)\n",
    "\n",
    "# max\n",
    "idx = groups.min().index\n",
    "counts = groups.min()[\"target\"]\n",
    "x = list(idx.values)\n",
    "y = list(counts.values)\n",
    "plt.pyplot.bar(x, y)"
   ]
  },
  {
   "cell_type": "markdown",
   "metadata": {},
   "source": [
    "## Mean"
   ]
  },
  {
   "cell_type": "code",
   "execution_count": 87,
   "metadata": {},
   "outputs": [
    {
     "data": {
      "text/plain": [
       "<BarContainer object of 15 artists>"
      ]
     },
     "execution_count": 87,
     "metadata": {},
     "output_type": "execute_result"
    },
    {
     "data": {
      "image/png": "[encoded data removed]",
      "text/plain": [
       "<Figure size 432x288 with 1 Axes>"
      ]
     },
     "metadata": {},
     "output_type": "display_data"
    }
   ],
   "source": [
    "# mean\n",
    "idx = groups.mean().index\n",
    "counts = groups.mean()[\"target\"]\n",
    "x = list(idx.values)\n",
    "y = list(counts.values)\n",
    "plt.pyplot.bar(x, y)"
   ]
  },
  {
   "cell_type": "markdown",
   "metadata": {},
   "source": [
    "Em linhas gerais podemos dizer que os valores que tem os mínimos e máximos mais extendidos tem na realidade haver com o número de dados que estão alí presentes, pois em geral as maiores variações coincidem com um número de dados maior, então essas features atribuídas não devem nos dar muitos resultados, até porque o desvio padrão é aproximadamente o mesmo para todos esses dados e o valor médio em geral não chega sequer a uma diferença de 0.2 da origem da gaussiana em todas as categorias e portanto podemos dizer que as features em conjunto não separam o conjunto de dados de uma forma satisfatória de forma que devemos observar outros dados, principalmente os dados de transações e buscar respostas na classe de dados de período de adesão que pode revelar grandes informações sobre esse conjunto de dados antes de passarmos para um modelo de predição com baixa fidelidade"
   ]
  },
  {
   "cell_type": "markdown",
   "metadata": {},
   "source": [
    "# O Dataset de Transações\n",
    "\n",
    "Para esse dataset temos a documentação de que há um campo denominado _authorized\\_flag_ que contém o status de se aquela transação foi aprovada ou não. Isso é extremamente importante de se buscar pois isso pode significar que as transações negadas tenham uma ligação direta com o score de lealdade. As primeiras hipóteses são que:  \n",
    "\n",
    " - Um maior número de transações tem ligação direta com o score\n",
    " - Um maior número de transações aprovadas tem ligação direta com o score\n",
    " - Um maior número de trasações negadas tem ligação direta com o score\n",
    "  \n",
    "**Obs:** O dataset de transações vai ser utilizado diretamente para evitar que seja carregado novamente na memória"
   ]
  },
  {
   "cell_type": "code",
   "execution_count": 105,
   "metadata": {},
   "outputs": [
    {
     "data": {
      "text/plain": [
       "card_id\n",
       "C_ID_00007093c1    149\n",
       "C_ID_0001238066    123\n",
       "C_ID_0001506ef0     66\n",
       "C_ID_0001793786    216\n",
       "C_ID_000183fdda    144\n",
       "Name: purchase_date, dtype: int64"
      ]
     },
     "execution_count": 105,
     "metadata": {},
     "output_type": "execute_result"
    }
   ],
   "source": [
    "# Aqui faremos a contagem de transações de cada cartão de crédito\n",
    "transactions_count = transactions_df.groupby(by=\"card_id\").count()[\"purchase_date\"]\n",
    "transactions_count.head()"
   ]
  },
  {
   "cell_type": "code",
   "execution_count": 132,
   "metadata": {},
   "outputs": [
    {
     "data": {
      "text/html": [
       "<div>\n",
       "<style scoped>\n",
       "    .dataframe tbody tr th:only-of-type {\n",
       "        vertical-align: middle;\n",
       "    }\n",
       "\n",
       "    .dataframe tbody tr th {\n",
       "        vertical-align: top;\n",
       "    }\n",
       "\n",
       "    .dataframe thead th {\n",
       "        text-align: right;\n",
       "    }\n",
       "</style>\n",
       "<table border=\"1\" class=\"dataframe\">\n",
       "  <thead>\n",
       "    <tr style=\"text-align: right;\">\n",
       "      <th></th>\n",
       "      <th>first_active_month</th>\n",
       "      <th>card_id</th>\n",
       "      <th>feature_1</th>\n",
       "      <th>feature_2</th>\n",
       "      <th>feature_3</th>\n",
       "      <th>target</th>\n",
       "      <th>class</th>\n",
       "      <th>count</th>\n",
       "    </tr>\n",
       "  </thead>\n",
       "  <tbody>\n",
       "    <tr>\n",
       "      <th>0</th>\n",
       "      <td>2017-06</td>\n",
       "      <td>C_ID_92a2005557</td>\n",
       "      <td>5.0</td>\n",
       "      <td>2.0</td>\n",
       "      <td>1.0</td>\n",
       "      <td>-0.820283</td>\n",
       "      <td>13.0</td>\n",
       "      <td>260</td>\n",
       "    </tr>\n",
       "    <tr>\n",
       "      <th>1</th>\n",
       "      <td>2017-01</td>\n",
       "      <td>C_ID_3d0044924f</td>\n",
       "      <td>4.0</td>\n",
       "      <td>1.0</td>\n",
       "      <td>0.0</td>\n",
       "      <td>0.392913</td>\n",
       "      <td>9.0</td>\n",
       "      <td>350</td>\n",
       "    </tr>\n",
       "    <tr>\n",
       "      <th>2</th>\n",
       "      <td>2016-08</td>\n",
       "      <td>C_ID_d639edf6cd</td>\n",
       "      <td>2.0</td>\n",
       "      <td>2.0</td>\n",
       "      <td>0.0</td>\n",
       "      <td>0.688056</td>\n",
       "      <td>4.0</td>\n",
       "      <td>43</td>\n",
       "    </tr>\n",
       "    <tr>\n",
       "      <th>3</th>\n",
       "      <td>2017-09</td>\n",
       "      <td>C_ID_186d6a6901</td>\n",
       "      <td>4.0</td>\n",
       "      <td>3.0</td>\n",
       "      <td>0.0</td>\n",
       "      <td>0.142495</td>\n",
       "      <td>11.0</td>\n",
       "      <td>77</td>\n",
       "    </tr>\n",
       "    <tr>\n",
       "      <th>4</th>\n",
       "      <td>2017-11</td>\n",
       "      <td>C_ID_cdbd2c0db2</td>\n",
       "      <td>1.0</td>\n",
       "      <td>3.0</td>\n",
       "      <td>0.0</td>\n",
       "      <td>-0.159749</td>\n",
       "      <td>2.0</td>\n",
       "      <td>133</td>\n",
       "    </tr>\n",
       "  </tbody>\n",
       "</table>\n",
       "</div>"
      ],
      "text/plain": [
       "  first_active_month          card_id  feature_1  feature_2  feature_3  \\\n",
       "0            2017-06  C_ID_92a2005557        5.0        2.0        1.0   \n",
       "1            2017-01  C_ID_3d0044924f        4.0        1.0        0.0   \n",
       "2            2016-08  C_ID_d639edf6cd        2.0        2.0        0.0   \n",
       "3            2017-09  C_ID_186d6a6901        4.0        3.0        0.0   \n",
       "4            2017-11  C_ID_cdbd2c0db2        1.0        3.0        0.0   \n",
       "\n",
       "     target  class  count  \n",
       "0 -0.820283   13.0    260  \n",
       "1  0.392913    9.0    350  \n",
       "2  0.688056    4.0     43  \n",
       "3  0.142495   11.0     77  \n",
       "4 -0.159749    2.0    133  "
      ]
     },
     "execution_count": 132,
     "metadata": {},
     "output_type": "execute_result"
    }
   ],
   "source": [
    "try:\n",
    "    pure_train = pure_train.drop(labels=[\"count\"], axis=1)\n",
    "except:\n",
    "    pass\n",
    "\n",
    "pure_train = pd.merge(pure_train, \n",
    "         pd.DataFrame({\"card_id\":transactions_count.index, \"count\": transactions_count.values}), \n",
    "         on=[\"card_id\"])\n",
    "\n",
    "pure_train.head()"
   ]
  },
  {
   "cell_type": "code",
   "execution_count": 142,
   "metadata": {},
   "outputs": [
    {
     "data": {
      "text/plain": [
       "<BarContainer object of 1022 artists>"
      ]
     },
     "execution_count": 142,
     "metadata": {},
     "output_type": "execute_result"
    },
    {
     "data": {
      "image/png": "[encoded data removed]",
      "text/plain": [
       "<Figure size 432x288 with 1 Axes>"
      ]
     },
     "metadata": {},
     "output_type": "display_data"
    }
   ],
   "source": [
    "idx = pure_train.groupby(by=\"count\")[\"target\"].mean().index.values\n",
    "values = pure_train.groupby(by=\"count\")[\"target\"].mean().values\n",
    "\n",
    "# type(values)\n",
    "plt.pyplot.bar(idx, values)"
   ]
  },
  {
   "cell_type": "markdown",
   "metadata": {},
   "source": [
    "Podemos ver baseado nisso que em geral temos uma situação em que a média é negativa para a maior parte das regiões e que há uma região ideal em que essa média é positiva, devemos utilizar um dado mais bruto que a média para verificar então os valores"
   ]
  },
  {
   "cell_type": "code",
   "execution_count": 143,
   "metadata": {},
   "outputs": [
    {
     "data": {
      "text/plain": [
       "<BarContainer object of 1022 artists>"
      ]
     },
     "execution_count": 143,
     "metadata": {},
     "output_type": "execute_result"
    },
    {
     "data": {
      "image/png": "[encoded data removed]",
      "text/plain": [
       "<Figure size 432x288 with 1 Axes>"
      ]
     },
     "metadata": {},
     "output_type": "display_data"
    }
   ],
   "source": [
    "idx = pure_train.groupby(by=\"count\")[\"target\"].min().index.values\n",
    "values = pure_train.groupby(by=\"count\")[\"target\"].min().values\n",
    "\n",
    "plt.pyplot.bar(idx, values)\n",
    "\n",
    "\n",
    "idx = pure_train.groupby(by=\"count\")[\"target\"].max().index.values\n",
    "values = pure_train.groupby(by=\"count\")[\"target\"].max().values\n",
    "\n",
    "plt.pyplot.bar(idx, values)"
   ]
  },
  {
   "cell_type": "markdown",
   "metadata": {},
   "source": [
    "O que podemos deduzir dessa análise é que há uma clara redução de mínimos e máximos a medida que o número de transações aumenta, o que pode significar uma redução no número de valores para cada um desses counts ou uma real redução de variação desse score"
   ]
  },
  {
   "cell_type": "code",
   "execution_count": 144,
   "metadata": {},
   "outputs": [
    {
     "data": {
      "text/plain": [
       "<BarContainer object of 1022 artists>"
      ]
     },
     "execution_count": 144,
     "metadata": {},
     "output_type": "execute_result"
    },
    {
     "data": {
      "image/png": "[encoded data removed]",
      "text/plain": [
       "<Figure size 432x288 with 1 Axes>"
      ]
     },
     "metadata": {},
     "output_type": "display_data"
    }
   ],
   "source": [
    "idx = pure_train.groupby(by=\"count\")[\"target\"].count().index.values\n",
    "values = pure_train.groupby(by=\"count\")[\"target\"].count().values\n",
    "\n",
    "plt.pyplot.bar(idx, values)"
   ]
  },
  {
   "cell_type": "markdown",
   "metadata": {},
   "source": [
    "Vemos que na verdade o que detectamos é uma redução exponencial do número de transações, o que causa essa redução de variabilidade dos dados.  \n",
    "  \n",
    "---\n",
    "Vamos aproveitar essa metodologia adotada previamente para continuar nossas análises dessa vez correlacionando as transações recusadas e as aprovadas"
   ]
  },
  {
   "cell_type": "code",
   "execution_count": 147,
   "metadata": {},
   "outputs": [
    {
     "data": {
      "text/plain": [
       "card_id\n",
       "C_ID_00007093c1    35\n",
       "C_ID_0001238066     3\n",
       "C_ID_0001506ef0     4\n",
       "C_ID_0001793786    27\n",
       "C_ID_000183fdda     7\n",
       "Name: purchase_date, dtype: int64"
      ]
     },
     "execution_count": 147,
     "metadata": {},
     "output_type": "execute_result"
    }
   ],
   "source": [
    "# Aqui faremos a contagem de transações recusadas de cada cartão de crédito\n",
    "denied_count = transactions_df[transactions_df[\"authorized_flag\"] == \"N\"].groupby(by=\"card_id\").count()[\"purchase_date\"]\n",
    "denied_count.head()\n"
   ]
  },
  {
   "cell_type": "code",
   "execution_count": 148,
   "metadata": {},
   "outputs": [],
   "source": [
    "denied_train = pure_train"
   ]
  },
  {
   "cell_type": "code",
   "execution_count": 149,
   "metadata": {},
   "outputs": [
    {
     "data": {
      "text/html": [
       "<div>\n",
       "<style scoped>\n",
       "    .dataframe tbody tr th:only-of-type {\n",
       "        vertical-align: middle;\n",
       "    }\n",
       "\n",
       "    .dataframe tbody tr th {\n",
       "        vertical-align: top;\n",
       "    }\n",
       "\n",
       "    .dataframe thead th {\n",
       "        text-align: right;\n",
       "    }\n",
       "</style>\n",
       "<table border=\"1\" class=\"dataframe\">\n",
       "  <thead>\n",
       "    <tr style=\"text-align: right;\">\n",
       "      <th></th>\n",
       "      <th>first_active_month</th>\n",
       "      <th>card_id</th>\n",
       "      <th>feature_1</th>\n",
       "      <th>feature_2</th>\n",
       "      <th>feature_3</th>\n",
       "      <th>target</th>\n",
       "      <th>class</th>\n",
       "      <th>count</th>\n",
       "    </tr>\n",
       "  </thead>\n",
       "  <tbody>\n",
       "    <tr>\n",
       "      <th>0</th>\n",
       "      <td>2017-06</td>\n",
       "      <td>C_ID_92a2005557</td>\n",
       "      <td>5.0</td>\n",
       "      <td>2.0</td>\n",
       "      <td>1.0</td>\n",
       "      <td>-0.820283</td>\n",
       "      <td>13.0</td>\n",
       "      <td>13</td>\n",
       "    </tr>\n",
       "    <tr>\n",
       "      <th>1</th>\n",
       "      <td>2017-01</td>\n",
       "      <td>C_ID_3d0044924f</td>\n",
       "      <td>4.0</td>\n",
       "      <td>1.0</td>\n",
       "      <td>0.0</td>\n",
       "      <td>0.392913</td>\n",
       "      <td>9.0</td>\n",
       "      <td>11</td>\n",
       "    </tr>\n",
       "    <tr>\n",
       "      <th>2</th>\n",
       "      <td>2016-08</td>\n",
       "      <td>C_ID_d639edf6cd</td>\n",
       "      <td>2.0</td>\n",
       "      <td>2.0</td>\n",
       "      <td>0.0</td>\n",
       "      <td>0.688056</td>\n",
       "      <td>4.0</td>\n",
       "      <td>2</td>\n",
       "    </tr>\n",
       "    <tr>\n",
       "      <th>3</th>\n",
       "      <td>2017-11</td>\n",
       "      <td>C_ID_cdbd2c0db2</td>\n",
       "      <td>1.0</td>\n",
       "      <td>3.0</td>\n",
       "      <td>0.0</td>\n",
       "      <td>-0.159749</td>\n",
       "      <td>2.0</td>\n",
       "      <td>5</td>\n",
       "    </tr>\n",
       "    <tr>\n",
       "      <th>4</th>\n",
       "      <td>2016-09</td>\n",
       "      <td>C_ID_0894217f2f</td>\n",
       "      <td>4.0</td>\n",
       "      <td>2.0</td>\n",
       "      <td>0.0</td>\n",
       "      <td>0.871585</td>\n",
       "      <td>10.0</td>\n",
       "      <td>1</td>\n",
       "    </tr>\n",
       "  </tbody>\n",
       "</table>\n",
       "</div>"
      ],
      "text/plain": [
       "  first_active_month          card_id  feature_1  feature_2  feature_3  \\\n",
       "0            2017-06  C_ID_92a2005557        5.0        2.0        1.0   \n",
       "1            2017-01  C_ID_3d0044924f        4.0        1.0        0.0   \n",
       "2            2016-08  C_ID_d639edf6cd        2.0        2.0        0.0   \n",
       "3            2017-11  C_ID_cdbd2c0db2        1.0        3.0        0.0   \n",
       "4            2016-09  C_ID_0894217f2f        4.0        2.0        0.0   \n",
       "\n",
       "     target  class  count  \n",
       "0 -0.820283   13.0     13  \n",
       "1  0.392913    9.0     11  \n",
       "2  0.688056    4.0      2  \n",
       "3 -0.159749    2.0      5  \n",
       "4  0.871585   10.0      1  "
      ]
     },
     "execution_count": 149,
     "metadata": {},
     "output_type": "execute_result"
    }
   ],
   "source": [
    "try:\n",
    "    denied_train = pure_train.drop(labels=[\"count\"], axis=1)\n",
    "except:\n",
    "    pass\n",
    "\n",
    "denied_train = pd.merge(denied_train, \n",
    "         pd.DataFrame({\"card_id\":denied_count.index, \"count\": denied_count.values}), \n",
    "         on=[\"card_id\"])\n",
    "\n",
    "denied_train.head()"
   ]
  },
  {
   "cell_type": "code",
   "execution_count": 150,
   "metadata": {},
   "outputs": [
    {
     "data": {
      "text/plain": [
       "<BarContainer object of 208 artists>"
      ]
     },
     "execution_count": 150,
     "metadata": {},
     "output_type": "execute_result"
    },
    {
     "data": {
      "image/png": "[encoded data removed]",
      "text/plain": [
       "<Figure size 432x288 with 1 Axes>"
      ]
     },
     "metadata": {},
     "output_type": "display_data"
    }
   ],
   "source": [
    "idx = denied_train.groupby(by=\"count\")[\"target\"].mean().index.values\n",
    "values = denied_train.groupby(by=\"count\")[\"target\"].mean().values\n",
    "\n",
    "# type(values)\n",
    "plt.pyplot.bar(idx, values)"
   ]
  },
  {
   "cell_type": "markdown",
   "metadata": {},
   "source": [
    "Já podemos notar aqui que as regiões tem valores médios no mínimo mais marcantes"
   ]
  },
  {
   "cell_type": "code",
   "execution_count": 151,
   "metadata": {},
   "outputs": [
    {
     "data": {
      "text/plain": [
       "<BarContainer object of 208 artists>"
      ]
     },
     "execution_count": 151,
     "metadata": {},
     "output_type": "execute_result"
    },
    {
     "data": {
      "image/png": "[encoded data removed]",
      "text/plain": [
       "<Figure size 432x288 with 1 Axes>"
      ]
     },
     "metadata": {},
     "output_type": "display_data"
    }
   ],
   "source": [
    "idx = denied_train.groupby(by=\"count\")[\"target\"].min().index.values\n",
    "values = denied_train.groupby(by=\"count\")[\"target\"].min().values\n",
    "\n",
    "plt.pyplot.bar(idx, values)\n",
    "\n",
    "\n",
    "idx = denied_train.groupby(by=\"count\")[\"target\"].max().index.values\n",
    "values = denied_train.groupby(by=\"count\")[\"target\"].max().values\n",
    "\n",
    "plt.pyplot.bar(idx, values)"
   ]
  },
  {
   "cell_type": "code",
   "execution_count": 152,
   "metadata": {},
   "outputs": [
    {
     "data": {
      "text/plain": [
       "<BarContainer object of 208 artists>"
      ]
     },
     "execution_count": 152,
     "metadata": {},
     "output_type": "execute_result"
    },
    {
     "data": {
      "image/png": "[encoded data removed]",
      "text/plain": [
       "<Figure size 432x288 with 1 Axes>"
      ]
     },
     "metadata": {},
     "output_type": "display_data"
    }
   ],
   "source": [
    "idx = denied_train.groupby(by=\"count\")[\"target\"].count().index.values\n",
    "values = denied_train.groupby(by=\"count\")[\"target\"].count().values\n",
    "\n",
    "plt.pyplot.bar(idx, values)"
   ]
  },
  {
   "cell_type": "markdown",
   "metadata": {},
   "source": [
    "O mesmo fenômeno se mostrou aqui, o que pode ficar claro que ele deve estar mais presente para usuários que tenham esses dados também, porém, o número de transações recusadas de um mesmo cartão é bem menor do que o número de transações realizadas por ele para cada entidade  \n",
    "  \n",
    "Vamos agora testar a hipótese que a média de dinheiro já transacionado influencia nesse score"
   ]
  },
  {
   "cell_type": "code",
   "execution_count": 5,
   "metadata": {},
   "outputs": [
    {
     "data": {
      "text/plain": [
       "card_id\n",
       "C_ID_00007093c1   -0.547746\n",
       "C_ID_0001238066   -0.588811\n",
       "C_ID_0001506ef0   -0.511227\n",
       "C_ID_0001793786   -0.132067\n",
       "C_ID_000183fdda   -0.495595\n",
       "Name: purchase_amount, dtype: float64"
      ]
     },
     "execution_count": 5,
     "metadata": {},
     "output_type": "execute_result"
    }
   ],
   "source": [
    "# Aqui faremos a contagem de transações recusadas de cada cartão de crédito\n",
    "acc_mean = transactions_df[transactions_df[\"authorized_flag\"] == \"Y\"].groupby(by=\"card_id\").mean()[\"purchase_amount\"]\n",
    "acc_mean.head()\n"
   ]
  },
  {
   "cell_type": "code",
   "execution_count": 6,
   "metadata": {},
   "outputs": [
    {
     "data": {
      "text/html": [
       "<div>\n",
       "<style scoped>\n",
       "    .dataframe tbody tr th:only-of-type {\n",
       "        vertical-align: middle;\n",
       "    }\n",
       "\n",
       "    .dataframe tbody tr th {\n",
       "        vertical-align: top;\n",
       "    }\n",
       "\n",
       "    .dataframe thead th {\n",
       "        text-align: right;\n",
       "    }\n",
       "</style>\n",
       "<table border=\"1\" class=\"dataframe\">\n",
       "  <thead>\n",
       "    <tr style=\"text-align: right;\">\n",
       "      <th></th>\n",
       "      <th>first_active_month</th>\n",
       "      <th>card_id</th>\n",
       "      <th>feature_1</th>\n",
       "      <th>feature_2</th>\n",
       "      <th>feature_3</th>\n",
       "      <th>target</th>\n",
       "      <th>count</th>\n",
       "    </tr>\n",
       "  </thead>\n",
       "  <tbody>\n",
       "    <tr>\n",
       "      <th>0</th>\n",
       "      <td>2017-06</td>\n",
       "      <td>C_ID_92a2005557</td>\n",
       "      <td>5</td>\n",
       "      <td>2</td>\n",
       "      <td>1</td>\n",
       "      <td>-0.820283</td>\n",
       "      <td>-0.637235</td>\n",
       "    </tr>\n",
       "    <tr>\n",
       "      <th>1</th>\n",
       "      <td>2017-01</td>\n",
       "      <td>C_ID_3d0044924f</td>\n",
       "      <td>4</td>\n",
       "      <td>1</td>\n",
       "      <td>0</td>\n",
       "      <td>0.392913</td>\n",
       "      <td>-0.616175</td>\n",
       "    </tr>\n",
       "    <tr>\n",
       "      <th>2</th>\n",
       "      <td>2016-08</td>\n",
       "      <td>C_ID_d639edf6cd</td>\n",
       "      <td>2</td>\n",
       "      <td>2</td>\n",
       "      <td>0</td>\n",
       "      <td>0.688056</td>\n",
       "      <td>-0.678742</td>\n",
       "    </tr>\n",
       "    <tr>\n",
       "      <th>3</th>\n",
       "      <td>2017-09</td>\n",
       "      <td>C_ID_186d6a6901</td>\n",
       "      <td>4</td>\n",
       "      <td>3</td>\n",
       "      <td>0</td>\n",
       "      <td>0.142495</td>\n",
       "      <td>-0.642745</td>\n",
       "    </tr>\n",
       "    <tr>\n",
       "      <th>4</th>\n",
       "      <td>2017-11</td>\n",
       "      <td>C_ID_cdbd2c0db2</td>\n",
       "      <td>1</td>\n",
       "      <td>3</td>\n",
       "      <td>0</td>\n",
       "      <td>-0.159749</td>\n",
       "      <td>-0.539379</td>\n",
       "    </tr>\n",
       "  </tbody>\n",
       "</table>\n",
       "</div>"
      ],
      "text/plain": [
       "  first_active_month          card_id  feature_1  feature_2  feature_3  \\\n",
       "0            2017-06  C_ID_92a2005557          5          2          1   \n",
       "1            2017-01  C_ID_3d0044924f          4          1          0   \n",
       "2            2016-08  C_ID_d639edf6cd          2          2          0   \n",
       "3            2017-09  C_ID_186d6a6901          4          3          0   \n",
       "4            2017-11  C_ID_cdbd2c0db2          1          3          0   \n",
       "\n",
       "     target     count  \n",
       "0 -0.820283 -0.637235  \n",
       "1  0.392913 -0.616175  \n",
       "2  0.688056 -0.678742  \n",
       "3  0.142495 -0.642745  \n",
       "4 -0.159749 -0.539379  "
      ]
     },
     "execution_count": 6,
     "metadata": {},
     "output_type": "execute_result"
    }
   ],
   "source": [
    "try:\n",
    "    acc_train = acc_train.drop(labels=[\"count\"], axis=1)\n",
    "except:\n",
    "    pass\n",
    "\n",
    "acc_train = pd.merge(pure_train, \n",
    "         pd.DataFrame({\"card_id\":acc_mean.index, \"count\": acc_mean.values}), \n",
    "         on=[\"card_id\"])\n",
    "\n",
    "acc_train.head()"
   ]
  },
  {
   "cell_type": "code",
   "execution_count": 7,
   "metadata": {},
   "outputs": [
    {
     "name": "stdout",
     "output_type": "stream",
     "text": [
      "199351 199351\n"
     ]
    },
    {
     "data": {
      "image/png": "[encoded data removed]",
      "text/plain": [
       "<Figure size 432x288 with 1 Axes>"
      ]
     },
     "metadata": {},
     "output_type": "display_data"
    }
   ],
   "source": [
    "idx = acc_train.groupby(by=\"count\")[\"target\"].mean().index.values\n",
    "values = acc_train.groupby(by=\"count\")[\"target\"].mean().values\n",
    "\n",
    "# idx = [(i//100)*100 for i in idx]\n",
    "# values = [(v//15)*15 for v in values]\n",
    "\n",
    "plt.pyplot.plot(idx, values)\n",
    "print(len(idx), len(values))\n",
    "# plt.pyplot.bar(idx, values)"
   ]
  },
  {
   "cell_type": "code",
   "execution_count": null,
   "metadata": {},
   "outputs": [],
   "source": []
  },
  {
   "cell_type": "code",
   "execution_count": null,
   "metadata": {},
   "outputs": [],
   "source": []
  }
 ],
 "metadata": {
  "kernelspec": {
   "display_name": "Python 3",
   "language": "python",
   "name": "python3"
  },
  "language_info": {
   "codemirror_mode": {
    "name": "ipython",
    "version": 3
   },
   "file_extension": ".py",
   "mimetype": "text/x-python",
   "name": "python",
   "nbconvert_exporter": "python",
   "pygments_lexer": "ipython3",
   "version": "3.6.5"
  }
 },
 "nbformat": 4,
 "nbformat_minor": 2
}
